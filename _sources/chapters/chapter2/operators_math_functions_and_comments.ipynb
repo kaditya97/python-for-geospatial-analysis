{
 "cells": [
  {
   "attachments": {},
   "cell_type": "markdown",
   "metadata": {},
   "source": [
    "# Operators, Math Functions and Comments"
   ]
  },
  {
   "attachments": {},
   "cell_type": "markdown",
   "metadata": {},
   "source": [
    "## Operators"
   ]
  },
  {
   "attachments": {},
   "cell_type": "markdown",
   "metadata": {},
   "source": [
    "Arithmetic Operators:\n",
    "\n",
    "- Addition: +\n",
    "- Subtraction: -\n",
    "- Multiplication: *\n",
    "- Division: /\n",
    "- Floor Division: //\n",
    "- Modulo: %\n",
    "- Exponentiation: **\n",
    "\n",
    "Assignment Operators:\n",
    "- Assignment: =\n",
    "- Addition Assignment: +=\n",
    "- Subtraction Assignment: -=\n",
    "- Multiplication Assignment: *=\n",
    "- Division Assignment: /=\n",
    "- Modulo Assignment: %=\n",
    "- Exponentiation Assignment: **=\n",
    "\n",
    "Comparison Operators:\n",
    "- Equal to: ==\n",
    "- Not equal to: !=\n",
    "- Greater than: >\n",
    "- Less than: <\n",
    "- Greater than or equal to: >=\n",
    "- Less than or equal to: <=\n",
    "\n",
    "Logical Operators:\n",
    "- Logical AND: and\n",
    "- Logical OR: or\n",
    "- Logical NOT: not"
   ]
  },
  {
   "attachments": {},
   "cell_type": "markdown",
   "metadata": {},
   "source": [
    "## Math Functions"
   ]
  },
  {
   "cell_type": "code",
   "execution_count": 1,
   "metadata": {},
   "outputs": [
    {
     "data": {
      "text/plain": [
       "0.1411200080598672"
      ]
     },
     "execution_count": 1,
     "metadata": {},
     "output_type": "execute_result"
    }
   ],
   "source": [
    "import math\n",
    "math.sin(3)"
   ]
  },
  {
   "cell_type": "code",
   "execution_count": 2,
   "metadata": {},
   "outputs": [
    {
     "name": "stdout",
     "output_type": "stream",
     "text": [
      "Square root of 16 is 4.0\n"
     ]
    }
   ],
   "source": [
    "# Square root\n",
    "num1 = 16\n",
    "sqrt = math.sqrt(num1)\n",
    "print(\"Square root of\", num1, \"is\", sqrt)"
   ]
  },
  {
   "cell_type": "code",
   "execution_count": 3,
   "metadata": {},
   "outputs": [
    {
     "name": "stdout",
     "output_type": "stream",
     "text": [
      "Sine of 0.7853981633974483 is 0.7071067811865476\n",
      "Cosine of 0.7853981633974483 is 0.7071067811865476\n"
     ]
    }
   ],
   "source": [
    "# Trigonometric functions\n",
    "angle = math.pi / 4  # 45 degrees in radians\n",
    "sin_val = math.sin(angle)\n",
    "cos_val = math.cos(angle)\n",
    "print(\"Sine of\", angle, \"is\", sin_val)\n",
    "print(\"Cosine of\", angle, \"is\", cos_val)"
   ]
  },
  {
   "cell_type": "code",
   "execution_count": 4,
   "metadata": {},
   "outputs": [
    {
     "name": "stdout",
     "output_type": "stream",
     "text": [
      "e raised to the power of 2.5 is 12.182493960703473\n",
      "Natural logarithm of 2.5 is 0.9162907318741551\n"
     ]
    }
   ],
   "source": [
    "# Exponential and logarithmic functions\n",
    "num2 = 2.5\n",
    "exp_val = math.exp(num2)\n",
    "log_val = math.log(num2)\n",
    "print(\"e raised to the power of\", num2, \"is\", exp_val)\n",
    "print(\"Natural logarithm of\", num2, \"is\", log_val)"
   ]
  },
  {
   "cell_type": "code",
   "execution_count": 7,
   "metadata": {},
   "outputs": [
    {
     "name": "stdout",
     "output_type": "stream",
     "text": [
      "Rounded value of -3.8 is -4\n",
      "Absolute value of -3.8 is 3.8\n"
     ]
    }
   ],
   "source": [
    "# Rounding and absolute value - are build in functions\n",
    "num3 = -3.8\n",
    "round_val = round(num3)\n",
    "abs_val = abs(num3)\n",
    "print(\"Rounded value of\", num3, \"is\", round_val)\n",
    "print(\"Absolute value of\", num3, \"is\", abs_val)"
   ]
  },
  {
   "cell_type": "code",
   "execution_count": 8,
   "metadata": {},
   "outputs": [
    {
     "name": "stdout",
     "output_type": "stream",
     "text": [
      "The value of pi is 3.141592653589793\n",
      "The value of e is 2.718281828459045\n"
     ]
    }
   ],
   "source": [
    "# Constants\n",
    "pi_val = math.pi\n",
    "e_val = math.e\n",
    "print(\"The value of pi is\", pi_val)\n",
    "print(\"The value of e is\", e_val)"
   ]
  }
 ],
 "metadata": {
  "kernelspec": {
   "display_name": "Python 3",
   "language": "python",
   "name": "python3"
  },
  "language_info": {
   "codemirror_mode": {
    "name": "ipython",
    "version": 3
   },
   "file_extension": ".py",
   "mimetype": "text/x-python",
   "name": "python",
   "nbconvert_exporter": "python",
   "pygments_lexer": "ipython3",
   "version": "3.7.9"
  },
  "widgets": {
   "application/vnd.jupyter.widget-state+json": {
    "state": {},
    "version_major": 2,
    "version_minor": 0
   }
  }
 },
 "nbformat": 4,
 "nbformat_minor": 4
}
