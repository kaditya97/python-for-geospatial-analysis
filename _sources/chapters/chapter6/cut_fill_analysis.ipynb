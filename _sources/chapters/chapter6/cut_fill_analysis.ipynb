{
 "cells": [
  {
   "attachments": {},
   "cell_type": "markdown",
   "metadata": {},
   "source": [
    "# Cut Fill Analysis"
   ]
  },
  {
   "attachments": {},
   "cell_type": "markdown",
   "metadata": {},
   "source": [
    "Cut-fill analysis is a technique used in earthwork and construction projects to determine the volume of material that needs to be cut (removed) or filled (added) at a particular location. It is commonly performed in grading and excavation projects, such as road construction, building construction, and land development.\n",
    "\n",
    "The main objective of cut-fill analysis is to assess the balance between the earthwork cut and fill quantities to achieve desired topography or grading requirements. It helps in optimizing the project design, estimating material quantities, and managing project costs.\n",
    "\n",
    "Cut-fill analysis provides valuable information for project planning, cost estimation, and earthwork management. It helps in optimizing the design to minimize excessive cut or fill, balancing the excavation and fill quantities to reduce material transportation, and ensuring the stability and integrity of the constructed features."
   ]
  },
  {
   "cell_type": "code",
   "execution_count": null,
   "metadata": {},
   "outputs": [],
   "source": [
    "\n",
    "from osgeo import gdal, osr\n",
    "import numpy as np"
   ]
  },
  {
   "cell_type": "code",
   "execution_count": null,
   "metadata": {},
   "outputs": [],
   "source": [
    "# Calculate area and volume above the base height\n",
    "def cut_area_volume(dem_data: np.ndarray, base_height: float, cell_size: float):\n",
    "  binary_mask = np.where(dem_data > base_height, 1, 0) # Create binary mask of DEM\n",
    "  cut_data = dem_data[dem_data > base_height]\n",
    "  cut_area = cell_size * cut_data.shape[0]\n",
    "  cut_volume = np.sum((dem_data - base_height) * binary_mask * cell_size)\n",
    "  return cut_area, cut_volume"
   ]
  },
  {
   "cell_type": "code",
   "execution_count": null,
   "metadata": {},
   "outputs": [],
   "source": [
    "# Calculate area and volume below the base height\n",
    "def fill_area_volume(dem_data: np.ndarray, base_height: float, cell_size: float):\n",
    "  binary_mask = np.where(dem_data > base_height, 0, 1) # Create binary mask of DEM\n",
    "  fill_data = dem_data[dem_data < base_height]\n",
    "  fill_area = cell_size * fill_data.shape[0]\n",
    "  fill_volume = np.sum((base_height - dem_data) * binary_mask * cell_size)\n",
    "  return fill_area, fill_volume"
   ]
  },
  {
   "cell_type": "code",
   "execution_count": null,
   "metadata": {},
   "outputs": [],
   "source": [
    "# Load DEM using gdal\n",
    "ds = gdal.Open('clipped_raster.tif')\n",
    "dem_band = ds.GetRasterBand(1)\n",
    "dem_data = dem_band.ReadAsArray()\n",
    "dem_data = dem_data.flatten() # Convert to 1D array\n",
    "\n",
    "# Determine height at which to calculate cut and fill volumes # We can also take user input\n",
    "base_height = 3 #elevation_average \n",
    "\n",
    "# Remove nodata value from the raster\n",
    "nodata = ds.GetRasterBand(1).GetNoDataValue()\n",
    "dem_data = np.delete(dem_data, np.argwhere(dem_data == nodata))\n",
    "\n",
    "# Get geotransform and projection of DEM\n",
    "geotransform = ds.GetGeoTransform()\n",
    "projection = ds.GetProjection()\n",
    "\n",
    "# Check if dataset is in projected or geographic coordinate system\n",
    "cs = osr.SpatialReference()\n",
    "cs.ImportFromWkt(projection)\n",
    "\n",
    "if cs.IsProjected():\n",
    "    cell_size = abs(geotransform[1] * geotransform[5])\n",
    "else:\n",
    "    print('Dataset is in geographic coordinate system, area and volume calculation will not be precise')\n",
    "    cell_size = abs(geotransform[1]*111320.0 * geotransform[5]*111320.0) # Convet geographic distance to meter\n",
    "\n",
    "\n",
    "cut_area, cut_volume = cut_area_volume(dem_data, base_height, cell_size)\n",
    "fill_area, fill_volume = fill_area_volume(dem_data, base_height, cell_size)\n",
    "net_volume = cut_volume - fill_volume\n",
    "\n",
    "print(f\"Cut area at {base_height} meter is {cut_area} square meters, and volume is {cut_volume} cubic meters\")\n",
    "print(f\"Fill area at {base_height} meter is {fill_area} square meters, and volume is {fill_volume} cubic meters\")\n",
    "print(f\"Net cut-fill volume at {base_height} meter is {net_volume} cubic meters\") # +ve sign for cut and -ve for fill\n",
    "\n",
    "# Close dataset\n",
    "ds = None"
   ]
  },
  {
   "cell_type": "code",
   "execution_count": null,
   "metadata": {},
   "outputs": [],
   "source": [
    "## Finding the optimum elevation at which there is minimum cut and fill\n",
    "\n",
    "def compute_cut_fill_volumes(data, elev, cell_size):\n",
    "    # Calculate the cut and fill volumes for the given elevation\n",
    "    cut_area, cut_volume = cut_area_volume(data, elev, cell_size)\n",
    "    fill_area, fill_volume = fill_area_volume(data, elev, cell_size)\n",
    "    return cut_volume, fill_volume\n",
    "\n",
    "def compute_optimal_elevation(dem):\n",
    "    # Get the raster band and read the data as a NumPy array\n",
    "    band = dem.GetRasterBand(1)\n",
    "    data = band.ReadAsArray()\n",
    "    data = data.flatten()\n",
    "    nodata = dem.GetRasterBand(1).GetNoDataValue()\n",
    "    data = np.delete(data, np.argwhere(data == nodata))\n",
    "\n",
    "    (min, max, mean, std) = band.GetStatistics(True, True)\n",
    "\n",
    "    geotransform = dem.GetGeoTransform()\n",
    "    cell_size = abs(geotransform[1] * geotransform[5])\n",
    "\n",
    "    # Set the initial lower and upper bounds for the elevation range\n",
    "    lower_bound = min\n",
    "    upper_bound = max\n",
    "\n",
    "    # Set the initial tolerance for the elevation range\n",
    "    tolerance = 0.0001\n",
    "\n",
    "    # Iterate until the difference between the upper and lower bounds is less than the tolerance\n",
    "    while upper_bound - lower_bound > tolerance:\n",
    "        # Calculate the midpoint of the elevation range\n",
    "        midpoint_elev = (lower_bound + upper_bound) / 2\n",
    "\n",
    "        # Compute the cut and fill volumes for the elevation midpoint\n",
    "        cut_volume, fill_volume = compute_cut_fill_volumes(data, midpoint_elev, cell_size)\n",
    "\n",
    "        # If the cut volume is greater than the fill volume, set the new lower bound to the midpoint elevation\n",
    "        if cut_volume > fill_volume:\n",
    "            lower_bound = midpoint_elev\n",
    "        # Otherwise, set the new upper bound to the midpoint elevation\n",
    "        else:\n",
    "            upper_bound = midpoint_elev\n",
    "\n",
    "    # The optimal elevation for cut-fill analysis is the midpoint elevation of the final elevation range\n",
    "    optimal_elev = (lower_bound + upper_bound) / 2\n",
    "    return optimal_elev\n",
    "\n",
    "# Open the DEM file using GDAL\n",
    "dem = gdal.Open('clipped_raster.tif')\n",
    "optimum_elevation = compute_optimal_elevation(dem)\n",
    "print(f\"The optimum elevation for minimum cut fill is: {optimum_elevation}\")"
   ]
  }
 ],
 "metadata": {
  "kernelspec": {
   "display_name": "Python 3",
   "language": "python",
   "name": "python3"
  },
  "language_info": {
   "codemirror_mode": {
    "name": "ipython",
    "version": 3
   },
   "file_extension": ".py",
   "mimetype": "text/x-python",
   "name": "python",
   "nbconvert_exporter": "python",
   "pygments_lexer": "ipython3",
   "version": "3.8.0"
  },
  "widgets": {
   "application/vnd.jupyter.widget-state+json": {
    "state": {},
    "version_major": 2,
    "version_minor": 0
   }
  }
 },
 "nbformat": 4,
 "nbformat_minor": 4
}
