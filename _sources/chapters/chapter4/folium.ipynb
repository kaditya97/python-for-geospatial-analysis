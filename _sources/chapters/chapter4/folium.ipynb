{
 "cells": [
  {
   "attachments": {},
   "cell_type": "markdown",
   "metadata": {},
   "source": [
    "# Folium Maps"
   ]
  },
  {
   "attachments": {},
   "cell_type": "markdown",
   "metadata": {},
   "source": [
    "Folium is a Python library used for creating interactive leaflet maps. It allows you to visualize geospatial data on an interactive map directly within a Jupyter notebook or in a standalone HTML file. Here are some basic functions and features of Folium:\n",
    "\n",
    "**Creating a Map:**\n",
    "   - `folium.Map()`: Create a basic map with default settings.\n",
    "   - `folium.Map(location=[latitude, longitude], zoom_start=zoom)`: Create a map centered at a specific latitude and longitude with a specified zoom level.\n",
    "\n",
    "**Adding Markers:**\n",
    "   - `folium.Marker(location=[latitude, longitude], popup='Marker Popup Text').add_to(map)`: Add a marker at a specific latitude and longitude with an optional popup text.\n",
    "\n",
    "**Adding Circle Markers:**\n",
    "   - `folium.CircleMarker(location=[latitude, longitude], radius=radius, color='color', fill=True, fill_color='fill_color').add_to(map)`: Add a circle marker at a specific latitude and longitude with customizable radius, color, and fill properties.\n",
    "\n",
    "**Adding Polygons:**\n",
    "   - `folium.Polygon(locations=[[lat1, lon1], [lat2, lon2], ...], color='color', fill=True, fill_color='fill_color').add_to(map)`: Add a polygon to the map by specifying the locations of its vertices.\n",
    "\n",
    "**Adding GeoJSON Layers:**\n",
    "   - `folium.GeoJson(geojson_data).add_to(map)`: Add a GeoJSON layer to the map, where `geojson_data` is the GeoJSON object or a URL to a GeoJSON file.\n",
    "\n",
    "**Adding Tile Layers:**\n",
    "   - `folium.TileLayer()`: Add a tile layer to the map. Folium supports various tilesets, including OpenStreetMap, Mapbox Bright, Mapbox Control Room, Stamen Terrain, and more.\n",
    "\n",
    "**Adding Layer Control:**\n",
    "   - `folium.LayerControl()`: Add a layer control to the map, allowing the user to toggle between different layers.\n",
    "\n",
    "**Saving the Map:**\n",
    "   - `map.save('path/to/map.html')`: Save the map to an HTML file.\n",
    "\n",
    "These are some of the basic functions provided by Folium. With Folium, you can create maps, add markers, polygons, GeoJSON layers, tile layers, and more to visualize geospatial data interactively. Folium also provides additional customization options and features for advanced mapping needs."
   ]
  },
  {
   "attachments": {},
   "cell_type": "markdown",
   "metadata": {},
   "source": [
    "Creating a Map:"
   ]
  },
  {
   "cell_type": "code",
   "execution_count": null,
   "metadata": {},
   "outputs": [],
   "source": [
    "import folium\n",
    "\n",
    "# Create a map centered at a specific location\n",
    "map = folium.Map(location=[27.6984, 85.3592], zoom_start=10)\n",
    "map"
   ]
  },
  {
   "attachments": {},
   "cell_type": "markdown",
   "metadata": {},
   "source": [
    "Adding Markers:"
   ]
  },
  {
   "cell_type": "code",
   "execution_count": null,
   "metadata": {},
   "outputs": [],
   "source": [
    "import folium\n",
    "\n",
    "# Create a map\n",
    "map = folium.Map(location=[27.6984, 85.3592], zoom_start=10)\n",
    "\n",
    "# Add a marker at Statue of Liberty\n",
    "folium.Marker(location=[27.6984, 85.3592], popup='Kathmandu').add_to(map)\n",
    "\n",
    "# Add a marker at Times Square\n",
    "folium.Marker(location=[27.5211, 85.3592], popup='Something').add_to(map)\n",
    "\n",
    "map"
   ]
  },
  {
   "attachments": {},
   "cell_type": "markdown",
   "metadata": {},
   "source": [
    "Adding Circle Markers:"
   ]
  },
  {
   "cell_type": "code",
   "execution_count": null,
   "metadata": {},
   "outputs": [],
   "source": [
    "import folium\n",
    "\n",
    "# Create a map\n",
    "map = folium.Map(location=[40.7128, -74.0060], zoom_start=10)\n",
    "\n",
    "# Add a circle marker at Central Park\n",
    "folium.CircleMarker(location=[40.7829, -73.9654], radius=50, color='red', fill=True, fill_color='red').add_to(map)\n",
    "\n",
    "# Add a circle marker at Union Square\n",
    "folium.CircleMarker(location=[40.7359, -73.9911], radius=30, color='blue', fill=True, fill_color='blue').add_to(map)\n",
    "\n",
    "map.save('map.html')"
   ]
  },
  {
   "attachments": {},
   "cell_type": "markdown",
   "metadata": {},
   "source": [
    "Adding Polygons:"
   ]
  },
  {
   "cell_type": "code",
   "execution_count": null,
   "metadata": {},
   "outputs": [],
   "source": [
    "import folium\n",
    "\n",
    "# Create a map\n",
    "map = folium.Map(location=[40.7128, -74.0060], zoom_start=10)\n",
    "\n",
    "# Define polygon vertices for Central Park\n",
    "central_park_vertices = [[40.7829, -73.9654], [40.8009, -73.9583], [40.8075, -73.9646], [40.8003, -73.9794], [40.7880, -73.9799]]\n",
    "\n",
    "# Add a polygon for Central Park\n",
    "folium.Polygon(locations=central_park_vertices, color='green', fill=True, fill_color='green').add_to(map)\n",
    "\n",
    "map.save('map.html')\n"
   ]
  },
  {
   "attachments": {},
   "cell_type": "markdown",
   "metadata": {},
   "source": [
    "Adding GeoJSON Layers:"
   ]
  },
  {
   "cell_type": "code",
   "execution_count": null,
   "metadata": {},
   "outputs": [],
   "source": [
    "import folium\n",
    "\n",
    "# Create a map\n",
    "map = folium.Map(location=[40.7128, -74.0060], zoom_start=10)\n",
    "\n",
    "# Add a GeoJSON layer from a GeoJSON file\n",
    "folium.GeoJson('path/to/file.geojson').add_to(map)\n",
    "\n",
    "map.save('map.html')\n"
   ]
  },
  {
   "attachments": {},
   "cell_type": "markdown",
   "metadata": {},
   "source": [
    "Adding Tile Layers:"
   ]
  },
  {
   "cell_type": "code",
   "execution_count": null,
   "metadata": {},
   "outputs": [],
   "source": [
    "import folium\n",
    "\n",
    "# Create a map\n",
    "map = folium.Map(location=[40.7128, -74.0060], zoom_start=10)\n",
    "\n",
    "# Add a tile layer (OpenStreetMap)\n",
    "folium.TileLayer('openstreetmap').add_to(map)\n",
    "\n",
    "# Add a tile layer (Stamen Terrain)\n",
    "folium.TileLayer('stamenterrain').add_to(map)\n",
    "\n",
    "folium.LayerControl().add_to(map)\n",
    "\n",
    "map.save('map.html')\n"
   ]
  },
  {
   "attachments": {},
   "cell_type": "markdown",
   "metadata": {},
   "source": [
    "These code examples demonstrate the basic usage of Folium for creating maps, adding markers, polygons, GeoJSON layers, tile layers, and layer control. Feel free to modify the code as per your specific requirements and data sources. Remember to save the map using the save() method to generate an HTML file that can be opened in a web browser to view the map."
   ]
  }
 ],
 "metadata": {
  "kernelspec": {
   "display_name": "Python 3",
   "language": "python",
   "name": "python3"
  },
  "language_info": {
   "codemirror_mode": {
    "name": "ipython",
    "version": 3
   },
   "file_extension": ".py",
   "mimetype": "text/x-python",
   "name": "python",
   "nbconvert_exporter": "python",
   "pygments_lexer": "ipython3",
   "version": "3.8.0"
  },
  "widgets": {
   "application/vnd.jupyter.widget-state+json": {
    "state": {},
    "version_major": 2,
    "version_minor": 0
   }
  }
 },
 "nbformat": 4,
 "nbformat_minor": 4
}
