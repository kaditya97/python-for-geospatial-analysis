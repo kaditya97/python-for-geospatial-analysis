{
 "cells": [
  {
   "attachments": {},
   "cell_type": "markdown",
   "metadata": {},
   "source": [
    "# Data Types and Variables"
   ]
  },
  {
   "attachments": {},
   "cell_type": "markdown",
   "metadata": {},
   "source": [
    "Python has several built-in data types that allow you to store and manipulate different kinds of data. Here are some commonly used data types in Python:\n",
    "\n",
    "**Numeric Types:**\n",
    "   - int: Represents integer values, e.g., 42, -10.\n",
    "   - float: Represents floating-point numbers, e.g., 3.14, -0.5.\n",
    "   - complex: Represents complex numbers, e.g., 2 + 3j.\n",
    "\n",
    "**Sequence Types:**\n",
    "   - list: Ordered, mutable collection of elements, e.g., [1, 2, 3].\n",
    "   - tuple: Ordered, immutable collection of elements, e.g., (4, 5, 6).\n",
    "   - str: Represents a sequence of characters, e.g., \"Hello, World!\".\n",
    "\n",
    "**Mapping Type:**\n",
    "   - dict: Collection of key-value pairs, where each key is unique, e.g., {\"name\": \"John\", \"age\": 25}.\n",
    "\n",
    "**Set Types:**\n",
    "   - set: Unordered collection of unique elements, e.g., {1, 2, 3}.\n",
    "   - frozenset: Immutable version of a set, e.g., frozenset({4, 5, 6}).\n",
    "\n",
    "**Boolean Type:**\n",
    "   - bool: Represents the truth values True and False.\n",
    "\n",
    "**None Type:**\n",
    "   - None: Represents the absence of a value or a null value.\n",
    "\n",
    "**Other Types:**\n",
    "   - bytes: Represents a sequence of bytes, e.g., b\"hello\".\n",
    "   - bytearray: Mutable version of bytes, e.g., bytearray(b\"hello\").\n",
    "   - range: Represents a sequence of numbers, e.g., range(1, 5).\n",
    "\n",
    "These are the fundamental built-in data types in Python. Additionally, Python allows for defining custom data types using classes and supports various libraries and frameworks that provide specialized data types for specific purposes, such as NumPy arrays for numerical computations or Pandas DataFrames for data analysis."
   ]
  },
  {
   "attachments": {},
   "cell_type": "markdown",
   "metadata": {},
   "source": [
    "## Variables"
   ]
  },
  {
   "attachments": {},
   "cell_type": "markdown",
   "metadata": {},
   "source": [
    "### Recommendation 1: pothole_case_naming\n",
    "pothole_case_naming uses lowercase words separated by underscores _. This is our suggested format as the underscores make it easy to read the variable, and don’t add too much to the length of the variable name. As an example, consider the variable temp_celsius."
   ]
  },
  {
   "cell_type": "code",
   "execution_count": null,
   "metadata": {},
   "outputs": [],
   "source": [
    "fmi_station_id = \"101533\""
   ]
  },
  {
   "attachments": {},
   "cell_type": "markdown",
   "metadata": {},
   "source": [
    "### Recommendation 2: camelCase naming\n",
    "camelCase or CamelCase uses capitalization of the first letter of words in a variable name to make it easier to read. In some cases the first letter of the variable may be capitalized. The variable tempFahrenheit was one example of camelCase."
   ]
  },
  {
   "cell_type": "code",
   "execution_count": null,
   "metadata": {},
   "outputs": [],
   "source": [
    "fmiStationID = \"101533\""
   ]
  }
 ],
 "metadata": {
  "kernelspec": {
   "display_name": "Python 3",
   "language": "python",
   "name": "python3"
  },
  "language_info": {
   "codemirror_mode": {
    "name": "ipython",
    "version": 3
   },
   "file_extension": ".py",
   "mimetype": "text/x-python",
   "name": "python",
   "nbconvert_exporter": "python",
   "pygments_lexer": "ipython3",
   "version": "3.8.0"
  },
  "widgets": {
   "application/vnd.jupyter.widget-state+json": {
    "state": {},
    "version_major": 2,
    "version_minor": 0
   }
  }
 },
 "nbformat": 4,
 "nbformat_minor": 4
}
