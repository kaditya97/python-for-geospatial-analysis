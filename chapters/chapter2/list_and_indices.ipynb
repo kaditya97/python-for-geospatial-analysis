{
 "cells": [
  {
   "attachments": {},
   "cell_type": "markdown",
   "metadata": {},
   "source": [
    "# List and Indices"
   ]
  },
  {
   "attachments": {},
   "cell_type": "markdown",
   "metadata": {},
   "source": [
    "\n",
    "In Python, a list is an ordered, mutable collection of elements that can store different data types. Lists are defined using square brackets [] and can contain zero or more elements separated by commas"
   ]
  },
  {
   "cell_type": "code",
   "execution_count": null,
   "metadata": {},
   "outputs": [],
   "source": [
    "# Creating a list\n",
    "fruits = ['apple', 'banana', 'orange', 'mango']\n",
    "numbers = [1, 2, 3, 4, 5]\n",
    "mixed = ['apple', 42, True, 3.14]"
   ]
  },
  {
   "cell_type": "code",
   "execution_count": null,
   "metadata": {},
   "outputs": [],
   "source": [
    "# Accessing list elements\n",
    "print(fruits[0])     # Output: 'apple'\n",
    "print(numbers[2])    # Output: 3\n",
    "print(mixed[1:3])    # Output: [42, True]"
   ]
  },
  {
   "cell_type": "code",
   "execution_count": null,
   "metadata": {},
   "outputs": [],
   "source": [
    "# Modifying list elements\n",
    "fruits[1] = 'grape'\n",
    "numbers.append(6)\n",
    "mixed.remove(True)\n",
    "print(fruits)        # Output: ['apple', 'grape', 'orange', 'mango']\n",
    "print(numbers)       # Output: [1, 2, 3, 4, 5, 6]\n",
    "print(mixed)         # Output: ['apple', 42, 3.14]"
   ]
  },
  {
   "cell_type": "code",
   "execution_count": null,
   "metadata": {},
   "outputs": [],
   "source": [
    "# List length\n",
    "print(len(fruits))   # Output: 4"
   ]
  },
  {
   "cell_type": "code",
   "execution_count": null,
   "metadata": {},
   "outputs": [],
   "source": [
    "# Checking element existence\n",
    "print('banana' in fruits)    # Output: False\n",
    "print(3 in numbers)          # Output: True"
   ]
  },
  {
   "cell_type": "code",
   "execution_count": null,
   "metadata": {},
   "outputs": [],
   "source": [
    "# Iterating over a list\n",
    "for fruit in fruits:\n",
    "    print(fruit)    # Output: apple, grape, orange, mango"
   ]
  },
  {
   "cell_type": "code",
   "execution_count": null,
   "metadata": {},
   "outputs": [],
   "source": [
    "# List concatenation\n",
    "combined = fruits + numbers\n",
    "print(combined)     # Output: ['apple', 'grape', 'orange', 'mango', 1, 2, 3, 4, 5, 6]"
   ]
  },
  {
   "cell_type": "code",
   "execution_count": null,
   "metadata": {},
   "outputs": [],
   "source": [
    "# List methods\n",
    "fruits.append('kiwi')\n",
    "numbers.reverse()\n",
    "print(fruits)        # Output: ['apple', 'grape', 'orange', 'mango', 'kiwi']\n",
    "print(numbers)       # Output: [6, 5, 4, 3, 2, 1]"
   ]
  }
 ],
 "metadata": {
  "kernelspec": {
   "display_name": "Python 3",
   "language": "python",
   "name": "python3"
  },
  "language_info": {
   "codemirror_mode": {
    "name": "ipython",
    "version": 3
   },
   "file_extension": ".py",
   "mimetype": "text/x-python",
   "name": "python",
   "nbconvert_exporter": "python",
   "pygments_lexer": "ipython3",
   "version": "3.8.0"
  },
  "widgets": {
   "application/vnd.jupyter.widget-state+json": {
    "state": {},
    "version_major": 2,
    "version_minor": 0
   }
  }
 },
 "nbformat": 4,
 "nbformat_minor": 4
}
