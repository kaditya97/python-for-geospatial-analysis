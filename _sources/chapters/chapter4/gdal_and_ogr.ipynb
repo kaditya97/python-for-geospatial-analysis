{
 "cells": [
  {
   "attachments": {},
   "cell_type": "markdown",
   "metadata": {},
   "source": [
    "# GDAL and OGR"
   ]
  },
  {
   "attachments": {},
   "cell_type": "markdown",
   "metadata": {},
   "source": [
    "\n",
    "GDAL (Geospatial Data Abstraction Library) is a powerful open-source library for reading, writing, and manipulating geospatial raster and vector data formats. It provides a wide range of functionalities for working with geospatial data, including data format translation, projection transformations, resampling, and more. GDAL is written in C++ and offers bindings for various programming languages, including Python.\n",
    "\n",
    "Here are some of the basic functions and concepts in GDAL:\n",
    "\n",
    "**Opening and Reading Geospatial Datasets:** GDAL allows you to open and read raster and vector datasets in different formats.\n",
    "\n",
    "Opening a raster dataset:"
   ]
  },
  {
   "cell_type": "code",
   "execution_count": null,
   "metadata": {},
   "outputs": [],
   "source": [
    "from osgeo import gdal\n",
    "\n",
    "dataset = gdal.Open('path/to/raster.tif')"
   ]
  },
  {
   "attachments": {},
   "cell_type": "markdown",
   "metadata": {},
   "source": [
    "Opening a vector dataset:"
   ]
  },
  {
   "cell_type": "code",
   "execution_count": null,
   "metadata": {},
   "outputs": [],
   "source": [
    "from osgeo import ogr\n",
    "\n",
    "dataset = ogr.Open('path/to/vector.shp')"
   ]
  },
  {
   "attachments": {},
   "cell_type": "markdown",
   "metadata": {},
   "source": [
    "Accessing raster data as a NumPy array:"
   ]
  },
  {
   "cell_type": "code",
   "execution_count": null,
   "metadata": {},
   "outputs": [],
   "source": [
    "band = dataset.GetRasterBand(1)\n",
    "data = band.ReadAsArray()"
   ]
  },
  {
   "attachments": {},
   "cell_type": "markdown",
   "metadata": {},
   "source": [
    "Accessing vector data features:"
   ]
  },
  {
   "cell_type": "code",
   "execution_count": null,
   "metadata": {},
   "outputs": [],
   "source": [
    "layer = dataset.GetLayer(0)\n",
    "feature = layer.GetFeature(0)"
   ]
  },
  {
   "attachments": {},
   "cell_type": "markdown",
   "metadata": {},
   "source": [
    "**Writing Geospatial Datasets:** GDAL allows you to create and write raster and vector datasets.\n",
    "\n",
    "Creating a new raster dataset:"
   ]
  },
  {
   "cell_type": "code",
   "execution_count": null,
   "metadata": {},
   "outputs": [],
   "source": [
    "driver = gdal.GetDriverByName('GTiff')\n",
    "new_dataset = driver.Create('path/to/new_raster.tif', cols, rows, bands, data_type)"
   ]
  },
  {
   "attachments": {},
   "cell_type": "markdown",
   "metadata": {},
   "source": [
    "Creating a new vector dataset:"
   ]
  },
  {
   "cell_type": "code",
   "execution_count": null,
   "metadata": {},
   "outputs": [],
   "source": [
    "driver = ogr.GetDriverByName('ESRI Shapefile')\n",
    "new_dataset = driver.CreateDataSource('path/to/new_vector.shp')"
   ]
  },
  {
   "attachments": {},
   "cell_type": "markdown",
   "metadata": {},
   "source": [
    "**Geospatial Transformations:** GDAL provides functions for performing various geospatial transformations, such as coordinate system conversions and reprojecting datasets.\n",
    "\n",
    "Getting the coordinate system (CRS) of a dataset:"
   ]
  },
  {
   "cell_type": "code",
   "execution_count": null,
   "metadata": {},
   "outputs": [],
   "source": [
    "crs = dataset.GetProjection()"
   ]
  },
  {
   "attachments": {},
   "cell_type": "markdown",
   "metadata": {},
   "source": [
    "Transforming coordinates from one CRS to another:"
   ]
  },
  {
   "cell_type": "code",
   "execution_count": null,
   "metadata": {},
   "outputs": [],
   "source": [
    "from osgeo import osr\n",
    "\n",
    "source_crs = osr.SpatialReference()\n",
    "source_crs.ImportFromEPSG(4326)  # Source CRS: WGS84\n",
    "target_crs = osr.SpatialReference()\n",
    "target_crs.ImportFromEPSG(32633)  # Target CRS: UTM Zone 33N\n",
    "\n",
    "transform = osr.CoordinateTransformation(source_crs, target_crs)\n",
    "transformed_x, transformed_y, transformed_z = transform.TransformPoint(x, y, z)"
   ]
  },
  {
   "attachments": {},
   "cell_type": "markdown",
   "metadata": {},
   "source": [
    "**Dataset Information and Metadata:** GDAL provides functions to access dataset information and metadata.\n",
    "\n",
    "Accessing raster dataset metadata:"
   ]
  },
  {
   "cell_type": "code",
   "execution_count": null,
   "metadata": {},
   "outputs": [],
   "source": [
    "metadata = dataset.GetMetadata()"
   ]
  },
  {
   "attachments": {},
   "cell_type": "markdown",
   "metadata": {},
   "source": [
    "Accessing vector dataset information:"
   ]
  },
  {
   "cell_type": "code",
   "execution_count": null,
   "metadata": {},
   "outputs": [],
   "source": [
    "layer = dataset.GetLayer(0)\n",
    "feature_count = layer.GetFeatureCount()\n",
    "extent = layer.GetExtent()"
   ]
  },
  {
   "attachments": {},
   "cell_type": "markdown",
   "metadata": {},
   "source": [
    "These are some of the basic functions and concepts in GDAL. The library offers many more advanced capabilities for geospatial data manipulation, format conversion, georeferencing, and more. You can refer to the official GDAL documentation for more details and examples: https://gdal.org/"
   ]
  }
 ],
 "metadata": {
  "kernelspec": {
   "display_name": "Python 3",
   "language": "python",
   "name": "python3"
  },
  "language_info": {
   "codemirror_mode": {
    "name": "ipython",
    "version": 3
   },
   "file_extension": ".py",
   "mimetype": "text/x-python",
   "name": "python",
   "nbconvert_exporter": "python",
   "pygments_lexer": "ipython3",
   "version": "3.8.0"
  },
  "widgets": {
   "application/vnd.jupyter.widget-state+json": {
    "state": {},
    "version_major": 2,
    "version_minor": 0
   }
  }
 },
 "nbformat": 4,
 "nbformat_minor": 4
}
