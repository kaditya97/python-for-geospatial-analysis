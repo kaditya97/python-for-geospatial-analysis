{
 "cells": [
  {
   "attachments": {},
   "cell_type": "markdown",
   "metadata": {},
   "source": [
    "# Geopandas"
   ]
  },
  {
   "attachments": {},
   "cell_type": "markdown",
   "metadata": {},
   "source": [
    "\n",
    "Geopandas is a Python library that extends the capabilities of Pandas for working with geospatial data. It combines the functionality of Pandas dataframes with the spatial operations of Shapely and the visualization capabilities of Matplotlib. Geopandas allows you to read, write, manipulate, analyze, and visualize geospatial data efficiently.\n",
    "\n",
    "Here are some of the basic functions and concepts in Geopandas:\n",
    "\n",
    "#### Reading Geospatial Data\n",
    "Geopandas can read various geospatial file formats, including shapefiles, GeoJSON, and GeoPackage."
   ]
  },
  {
   "cell_type": "code",
   "execution_count": null,
   "metadata": {},
   "outputs": [],
   "source": [
    "# Reading a shapefile:\n",
    "import geopandas as gpd\n",
    "\n",
    "data = gpd.read_file('path/to/shapefile.shp')"
   ]
  },
  {
   "attachments": {},
   "cell_type": "markdown",
   "metadata": {},
   "source": [
    "### Geospatial Data Structures \n",
    "Geopandas introduces two main data structures - GeoSeries and GeoDataFrame.\n",
    "\n",
    "#### GeoSeries\n",
    "A GeoSeries is similar to a Pandas Series but with an additional column that contains geometric objects."
   ]
  },
  {
   "cell_type": "code",
   "execution_count": null,
   "metadata": {},
   "outputs": [],
   "source": [
    "from shapely.geometry import Point\n",
    "import geopandas as gpd\n",
    "\n",
    "# Creating a GeoSeries of Points\n",
    "geometry = [Point(0, 0), Point(1, 1), Point(2, 2)]\n",
    "geoseries = gpd.GeoSeries(geometry)"
   ]
  },
  {
   "attachments": {},
   "cell_type": "markdown",
   "metadata": {},
   "source": [
    "#### GeoDataFrame \n",
    "A GeoDataFrame is similar to a Pandas DataFrame but with an additional column that contains GeoSeries."
   ]
  },
  {
   "cell_type": "code",
   "execution_count": null,
   "metadata": {},
   "outputs": [],
   "source": [
    "import pandas as pd\n",
    "import geopandas as gpd\n",
    "\n",
    "# Creating a GeoDataFrame from a DataFrame and a GeoSeries\n",
    "df = pd.DataFrame({'Name': ['A', 'B', 'C'], 'Value': [1, 2, 3]})\n",
    "gdf = gpd.GeoDataFrame(df, geometry=geoseries)"
   ]
  },
  {
   "attachments": {},
   "cell_type": "markdown",
   "metadata": {},
   "source": [
    "### Spatial Operations \n",
    "Geopandas provides numerous spatial operations that can be applied to GeoSeries and GeoDataFrames.\n",
    "\n",
    "Overlay operations (e.g., intersection, union, difference):"
   ]
  },
  {
   "cell_type": "code",
   "execution_count": null,
   "metadata": {},
   "outputs": [],
   "source": [
    "intersection = gdf1.intersection(gdf2)"
   ]
  },
  {
   "attachments": {},
   "cell_type": "markdown",
   "metadata": {},
   "source": [
    "Buffering:"
   ]
  },
  {
   "cell_type": "code",
   "execution_count": null,
   "metadata": {},
   "outputs": [],
   "source": [
    "buffered = gdf.buffer(distance)"
   ]
  },
  {
   "attachments": {},
   "cell_type": "markdown",
   "metadata": {},
   "source": [
    "Spatial Joins:"
   ]
  },
  {
   "cell_type": "code",
   "execution_count": null,
   "metadata": {},
   "outputs": [],
   "source": [
    "join = gpd.sjoin(gdf1, gdf2, how='inner', op='intersects')"
   ]
  },
  {
   "attachments": {},
   "cell_type": "markdown",
   "metadata": {},
   "source": [
    "### Visualization \n",
    "Geopandas integrates with Matplotlib to provide visualization capabilities for geospatial data.\n",
    "\n",
    "Plotting a GeoDataFrame:"
   ]
  },
  {
   "cell_type": "code",
   "execution_count": null,
   "metadata": {},
   "outputs": [],
   "source": [
    "gdf.plot()"
   ]
  },
  {
   "attachments": {},
   "cell_type": "markdown",
   "metadata": {},
   "source": [
    "Customizing plots with Matplotlib:"
   ]
  },
  {
   "cell_type": "code",
   "execution_count": null,
   "metadata": {},
   "outputs": [],
   "source": [
    "import matplotlib.pyplot as plt\n",
    "\n",
    "ax = gdf.plot()\n",
    "ax.set_title('My GeoDataFrame')\n",
    "plt.show()"
   ]
  },
  {
   "attachments": {},
   "cell_type": "markdown",
   "metadata": {},
   "source": [
    "These are just a few examples of the basic functions and concepts in Geopandas. The library offers a wide range of functionalities for geospatial data manipulation, analysis, and visualization. You can refer to the official Geopandas documentation for more details and examples: https://geopandas.org/"
   ]
  }
 ],
 "metadata": {
  "kernelspec": {
   "display_name": "Python 3",
   "language": "python",
   "name": "python3"
  },
  "language_info": {
   "codemirror_mode": {
    "name": "ipython",
    "version": 3
   },
   "file_extension": ".py",
   "mimetype": "text/x-python",
   "name": "python",
   "nbconvert_exporter": "python",
   "pygments_lexer": "ipython3",
   "version": "3.8.0"
  },
  "widgets": {
   "application/vnd.jupyter.widget-state+json": {
    "state": {},
    "version_major": 2,
    "version_minor": 0
   }
  }
 },
 "nbformat": 4,
 "nbformat_minor": 4
}
