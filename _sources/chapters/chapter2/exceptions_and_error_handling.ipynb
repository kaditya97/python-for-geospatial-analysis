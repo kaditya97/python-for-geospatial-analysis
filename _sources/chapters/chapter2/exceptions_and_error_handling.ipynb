{
 "cells": [
  {
   "attachments": {},
   "cell_type": "markdown",
   "metadata": {},
   "source": [
    "# Exceptions and Error Handling"
   ]
  },
  {
   "attachments": {},
   "cell_type": "markdown",
   "metadata": {},
   "source": [
    "\n",
    "In Python, error handling is achieved using exception handling. Exceptions are events that occur during the execution of a program that disrupt the normal flow of the program. By using exception handling, you can catch and handle these exceptions, allowing your program to gracefully recover from errors."
   ]
  },
  {
   "cell_type": "code",
   "execution_count": 2,
   "metadata": {},
   "outputs": [
    {
     "name": "stdout",
     "output_type": "stream",
     "text": [
      "Error: Division by zero is not allowed.\n"
     ]
    }
   ],
   "source": [
    "# Example: Handling division by zero exception\n",
    "try:\n",
    "    dividend = 10\n",
    "    divisor = 0\n",
    "    result = dividend / divisor\n",
    "    print(\"Result:\", result)\n",
    "except ZeroDivisionError:\n",
    "    print(\"Error: Division by zero is not allowed.\")\n"
   ]
  },
  {
   "cell_type": "code",
   "execution_count": 1,
   "metadata": {},
   "outputs": [
    {
     "name": "stdout",
     "output_type": "stream",
     "text": [
      "Error: File not found.\n",
      "File handling complete.\n"
     ]
    }
   ],
   "source": [
    "# Example: Handling file-related exceptions with 'else' and 'finally'\n",
    "try:\n",
    "    file = open(\"nonexistent.txt\", \"r\")\n",
    "except FileNotFoundError:\n",
    "    print(\"Error: File not found.\")\n",
    "else:\n",
    "    content = file.read()\n",
    "    print(\"Content:\", content)\n",
    "    file.close()\n",
    "finally:\n",
    "    print(\"File handling complete.\")\n"
   ]
  }
 ],
 "metadata": {
  "kernelspec": {
   "display_name": "Python 3",
   "language": "python",
   "name": "python3"
  },
  "language_info": {
   "codemirror_mode": {
    "name": "ipython",
    "version": 3
   },
   "file_extension": ".py",
   "mimetype": "text/x-python",
   "name": "python",
   "nbconvert_exporter": "python",
   "pygments_lexer": "ipython3",
   "version": "3.7.9"
  },
  "widgets": {
   "application/vnd.jupyter.widget-state+json": {
    "state": {},
    "version_major": 2,
    "version_minor": 0
   }
  }
 },
 "nbformat": 4,
 "nbformat_minor": 4
}
