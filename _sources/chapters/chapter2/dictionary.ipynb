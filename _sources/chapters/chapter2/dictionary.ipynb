{
 "cells": [
  {
   "attachments": {},
   "cell_type": "markdown",
   "metadata": {},
   "source": [
    "# Dictionary in Python"
   ]
  },
  {
   "attachments": {},
   "cell_type": "markdown",
   "metadata": {},
   "source": [
    "In Python, a dictionary is an unordered collection of key-value pairs. It allows you to store and retrieve data using a unique key. Dictionaries are defined using curly braces {} and consist of key-value pairs separated by colons :"
   ]
  },
  {
   "cell_type": "code",
   "execution_count": null,
   "metadata": {},
   "outputs": [],
   "source": [
    "# Creating a dictionary\n",
    "student = {'name': 'John', 'age': 20, 'major': 'Computer Science'}\n",
    "employee = {'name': 'Jane', 'age': 30, 'position': 'Manager'}"
   ]
  },
  {
   "cell_type": "code",
   "execution_count": null,
   "metadata": {},
   "outputs": [],
   "source": [
    "# Accessing dictionary values\n",
    "print(student['name'])      # Output: 'John'\n",
    "print(employee['position']) # Output: 'Manager'"
   ]
  },
  {
   "cell_type": "code",
   "execution_count": null,
   "metadata": {},
   "outputs": [],
   "source": [
    "# Modifying dictionary values\n",
    "student['age'] = 21\n",
    "employee['position'] = 'Senior Manager'\n",
    "print(student)             # Output: {'name': 'John', 'age': 21, 'major': 'Computer Science'}\n",
    "print(employee)            # Output: {'name': 'Jane', 'age': 30, 'position': 'Senior Manager'}"
   ]
  },
  {
   "cell_type": "code",
   "execution_count": null,
   "metadata": {},
   "outputs": [],
   "source": [
    "# Adding new key-value pairs\n",
    "student['university'] = 'ABC University'\n",
    "employee['salary'] = 5000\n",
    "print(student)             # Output: {'name': 'John', 'age': 21, 'major': 'Computer Science', 'university': 'ABC University'}\n",
    "print(employee)            # Output: {'name': 'Jane', 'age': 30, 'position': 'Senior Manager', 'salary': 5000}"
   ]
  },
  {
   "cell_type": "code",
   "execution_count": null,
   "metadata": {},
   "outputs": [],
   "source": [
    "# Removing key-value pairs\n",
    "del student['major']\n",
    "employee.pop('age')\n",
    "print(student)             # Output: {'name': 'John', 'age': 21, 'university': 'ABC University'}\n",
    "print(employee)            # Output: {'name': 'Jane', 'position': 'Senior Manager', 'salary': 5000}"
   ]
  },
  {
   "cell_type": "code",
   "execution_count": null,
   "metadata": {},
   "outputs": [],
   "source": [
    "# Checking key existence\n",
    "print('major' in student)  # Output: False\n",
    "print('age' not in employee)  # Output: True"
   ]
  },
  {
   "cell_type": "code",
   "execution_count": null,
   "metadata": {},
   "outputs": [],
   "source": [
    "# Iterating over dictionary keys and values\n",
    "for key in student:\n",
    "    print(key, student[key])  # Output: name John, age 21, university ABC University"
   ]
  },
  {
   "cell_type": "code",
   "execution_count": null,
   "metadata": {},
   "outputs": [],
   "source": [
    "# Dictionary methods\n",
    "print(len(student))       # Output: 3\n",
    "print(employee.keys())   # Output: dict_keys(['name', 'position', 'salary'])\n",
    "print(student.values())  # Output: dict_values(['John', 21, 'ABC University'])\n",
    "print(employee.items())  # Output: dict_items([('name', 'Jane'), ('position', 'Senior Manager'), ('salary', 5000)])"
   ]
  }
 ],
 "metadata": {
  "kernelspec": {
   "display_name": "Python 3",
   "language": "python",
   "name": "python3"
  },
  "language_info": {
   "codemirror_mode": {
    "name": "ipython",
    "version": 3
   },
   "file_extension": ".py",
   "mimetype": "text/x-python",
   "name": "python",
   "nbconvert_exporter": "python",
   "pygments_lexer": "ipython3",
   "version": "3.8.0"
  },
  "widgets": {
   "application/vnd.jupyter.widget-state+json": {
    "state": {},
    "version_major": 2,
    "version_minor": 0
   }
  }
 },
 "nbformat": 4,
 "nbformat_minor": 4
}
