{
 "cells": [
  {
   "attachments": {},
   "cell_type": "markdown",
   "metadata": {},
   "source": [
    "# Exploring Data Using Pandas"
   ]
  },
  {
   "attachments": {},
   "cell_type": "markdown",
   "metadata": {},
   "source": [
    "Exploring data using Pandas involves various operations to gain insights and perform analysis on the dataset. Here are some common techniques for data exploration using Pandas:\n",
    "\n",
    "**Loading Data:**\n",
    "   - Read data from various file formats using Pandas' `read_csv()`, `read_excel()`, or `read_sql()` functions.\n",
    "   - Explore the structure and initial rows of the DataFrame using `head()`, `tail()`, or `sample()` methods.\n",
    "\n",
    "**Understanding the Data:**\n",
    "   - Check the dimensions of the DataFrame using `shape`.\n",
    "   - Inspect the column names using `columns`.\n",
    "   - Obtain summary statistics of numeric columns with `describe()`.\n",
    "   - Get information about the DataFrame, including data types and missing values, using `info()`.\n",
    "\n",
    "**Data Selection and Filtering:**\n",
    "   - Select specific columns using indexing (`df['column_name']`) or dot notation (`df.column_name`).\n",
    "   - Filter rows based on conditions using boolean indexing (`df[condition]`).\n",
    "   - Use logical operators (e.g., `&` for AND, `|` for OR) for complex filtering.\n",
    "\n",
    "**Data Aggregation and Grouping:**\n",
    "   - Group data based on one or more columns using `groupby()`.\n",
    "   - Apply aggregation functions like `sum()`, `mean()`, `count()`, etc., to calculate statistics for grouped data.\n",
    "   - Perform multiple aggregations simultaneously using `agg()`.\n",
    "\n",
    "**Data Visualization:**\n",
    "   - Generate plots using Pandas' integration with Matplotlib or other visualization libraries.\n",
    "   - Use functions like `plot()`, `hist()`, `boxplot()`, `scatter()`, etc., to create visual representations of data.\n",
    "\n",
    "**Handling Missing Data:**\n",
    "   - Identify missing values in the DataFrame using `isnull()` or `isna()`.\n",
    "   - Handle missing data by either dropping rows/columns using `dropna()` or filling missing values with `fillna()`.\n",
    "\n",
    "**Data Transformation:**\n",
    "   - Perform data cleaning operations such as removing duplicates using `duplicated()` and `drop_duplicates()`.\n",
    "   - Convert data types of columns using `astype()`.\n",
    "   - Extract information from text or date columns using string methods or datetime functions.\n",
    "\n",
    "These are just a few examples of how you can explore data using Pandas. Depending on your specific dataset and analysis goals, you may need to apply additional operations and techniques. Pandas provides a comprehensive set of tools to manipulate, analyze, and visualize data, making it a powerful library for data exploration and analysis in Python."
   ]
  },
  {
   "cell_type": "code",
   "execution_count": null,
   "metadata": {},
   "outputs": [],
   "source": [
    "import pandas as pd\n",
    "\n",
    "# Creating a DataFrame\n",
    "data = {'Name': ['John', 'Jane', 'Mike'],\n",
    "        'Age': [25, 30, 35],\n",
    "        'City': ['New York', 'London', 'Sydney']}\n",
    "df = pd.DataFrame(data)\n",
    "\n",
    "# Performing data manipulation\n",
    "filtered_df = df[df['Age'] > 28]\n",
    "sorted_df = df.sort_values('Name')\n",
    "\n",
    "# Displaying the DataFrame\n",
    "print(df)\n",
    "print(filtered_df)\n",
    "print(sorted_df)"
   ]
  }
 ],
 "metadata": {
  "kernelspec": {
   "display_name": "Python 3",
   "language": "python",
   "name": "python3"
  },
  "language_info": {
   "codemirror_mode": {
    "name": "ipython",
    "version": 3
   },
   "file_extension": ".py",
   "mimetype": "text/x-python",
   "name": "python",
   "nbconvert_exporter": "python",
   "pygments_lexer": "ipython3",
   "version": "3.8.0"
  },
  "widgets": {
   "application/vnd.jupyter.widget-state+json": {
    "state": {},
    "version_major": 2,
    "version_minor": 0
   }
  }
 },
 "nbformat": 4,
 "nbformat_minor": 4
}
