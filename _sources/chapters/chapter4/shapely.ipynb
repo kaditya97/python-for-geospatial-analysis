{
 "cells": [
  {
   "attachments": {},
   "cell_type": "markdown",
   "metadata": {},
   "source": [
    "# Shapely"
   ]
  },
  {
   "attachments": {},
   "cell_type": "markdown",
   "metadata": {},
   "source": [
    "Shapely is a Python library for geometric operations and computations. It provides a set of classes and functions for working with planar geometry objects, such as points, lines, polygons, and geometric collections. Shapely is built on top of the widely used and powerful GEOS library.\n",
    "\n",
    "Here are some of the basic functions and concepts in Shapely:\n",
    "\n",
    "\n",
    "**Point:** A Point represents a single location in space, defined by its x and y coordinates.\n",
    "\n",
    "Creating a Point:"
   ]
  },
  {
   "cell_type": "code",
   "execution_count": 1,
   "metadata": {},
   "outputs": [],
   "source": [
    "from shapely.geometry import Point\n",
    "\n",
    "point = Point(2.0, 3.0)"
   ]
  },
  {
   "attachments": {},
   "cell_type": "markdown",
   "metadata": {},
   "source": [
    "**LineString:** A LineString is a sequence of connected line segments.\n",
    "\n",
    "Creating a LineString:"
   ]
  },
  {
   "cell_type": "code",
   "execution_count": null,
   "metadata": {},
   "outputs": [],
   "source": [
    "from shapely.geometry import LineString\n",
    "\n",
    "line = LineString([(0, 0), (1, 1), (2, 1), (2, 0)])"
   ]
  },
  {
   "attachments": {},
   "cell_type": "markdown",
   "metadata": {},
   "source": [
    "**Polygon:** A Polygon is a closed shape formed by a sequence of connected linear rings. The first ring is the exterior ring, and any subsequent rings are interior rings (also known as holes).\n",
    "\n",
    "Creating a Polygon:"
   ]
  },
  {
   "cell_type": "code",
   "execution_count": null,
   "metadata": {},
   "outputs": [],
   "source": [
    "from shapely.geometry import Polygon\n",
    "\n",
    "polygon = Polygon([(0, 0), (0, 1), (1, 1), (1, 0), (0, 0)])"
   ]
  },
  {
   "attachments": {},
   "cell_type": "markdown",
   "metadata": {},
   "source": [
    "**Geometry Collections:** Shapely provides classes to represent collections of geometric objects, such as MultiPoint, MultiLineString, MultiPolygon, and GeometryCollection.\n",
    "\n",
    "Creating a MultiPoint:"
   ]
  },
  {
   "cell_type": "code",
   "execution_count": null,
   "metadata": {},
   "outputs": [],
   "source": [
    "from shapely.geometry import MultiPoint\n",
    "\n",
    "multipoint = MultiPoint([(0, 0), (1, 1), (2, 2)])"
   ]
  },
  {
   "attachments": {},
   "cell_type": "markdown",
   "metadata": {},
   "source": [
    "### Spatial Operations\n",
    "Shapely allows you to perform various spatial operations on geometric objects, such as union, intersection, difference, and buffer.\n",
    "\n",
    "Union of two polygons:"
   ]
  },
  {
   "cell_type": "code",
   "execution_count": null,
   "metadata": {},
   "outputs": [],
   "source": [
    "union = polygon1.union(polygon2)"
   ]
  },
  {
   "attachments": {},
   "cell_type": "markdown",
   "metadata": {},
   "source": [
    "Intersection of two polygons:"
   ]
  },
  {
   "cell_type": "code",
   "execution_count": null,
   "metadata": {},
   "outputs": [],
   "source": [
    "intersection = polygon1.intersection(polygon2)"
   ]
  },
  {
   "attachments": {},
   "cell_type": "markdown",
   "metadata": {},
   "source": [
    "Difference between two polygons:"
   ]
  },
  {
   "cell_type": "code",
   "execution_count": null,
   "metadata": {},
   "outputs": [],
   "source": [
    "difference = polygon1.difference(polygon2)"
   ]
  },
  {
   "attachments": {},
   "cell_type": "markdown",
   "metadata": {},
   "source": [
    "Buffer around a geometry:"
   ]
  },
  {
   "cell_type": "code",
   "execution_count": null,
   "metadata": {},
   "outputs": [],
   "source": [
    "buffer = polygon.buffer(0.5)"
   ]
  },
  {
   "attachments": {},
   "cell_type": "markdown",
   "metadata": {},
   "source": [
    "These are just some of the basic functions and concepts in Shapely. The library offers many more advanced capabilities for geometric manipulations, spatial analysis, and more. You can refer to the official Shapely documentation for more details and examples: https://shapely.readthedocs.io/"
   ]
  }
 ],
 "metadata": {
  "kernelspec": {
   "display_name": "Python 3",
   "language": "python",
   "name": "python3"
  },
  "language_info": {
   "codemirror_mode": {
    "name": "ipython",
    "version": 3
   },
   "file_extension": ".py",
   "mimetype": "text/x-python",
   "name": "python",
   "nbconvert_exporter": "python",
   "pygments_lexer": "ipython3",
   "version": "3.11.3"
  },
  "widgets": {
   "application/vnd.jupyter.widget-state+json": {
    "state": {},
    "version_major": 2,
    "version_minor": 0
   }
  }
 },
 "nbformat": 4,
 "nbformat_minor": 4
}
