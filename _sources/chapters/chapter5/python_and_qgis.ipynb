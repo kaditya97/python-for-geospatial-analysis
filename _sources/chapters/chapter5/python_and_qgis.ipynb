{
 "cells": [
  {
   "attachments": {},
   "cell_type": "markdown",
   "metadata": {},
   "source": [
    "# Python and QGIS"
   ]
  },
  {
   "attachments": {},
   "cell_type": "markdown",
   "metadata": {},
   "source": [
    "```{image} ../../images/pyqgis.svg\n",
    ":alt: pyqgis\n",
    ":width: 400px\n",
    ":align: center\n",
    "```"
   ]
  },
  {
   "attachments": {},
   "cell_type": "markdown",
   "metadata": {},
   "source": [
    "<!-- <div align=\"center\">\n",
    "    <iframe width=\"560\" height=\"315\"\n",
    "    src=\"https://www.youtube.com/embed/X-LvGvNor4E\"\n",
    "    </iframe>\n",
    "</div> -->"
   ]
  },
  {
   "attachments": {},
   "cell_type": "markdown",
   "metadata": {},
   "source": [
    "## Running PyQGIS code in console\n",
    "Now that we’re set, let’s open QGIS’s Python console and get to work! Open it from Plugins > Python console or use the shortcut `Ctrl+Alt+P` on your keyboard."
   ]
  },
  {
   "attachments": {},
   "cell_type": "markdown",
   "metadata": {},
   "source": [
    "By default an iface object is imported, which allows the access to the currently active QGIS instance’s user interface. For example, we can easily retrieve the active (selected) layer, then access its type, name, and count its features:"
   ]
  },
  {
   "cell_type": "code",
   "execution_count": null,
   "metadata": {},
   "outputs": [],
   "source": [
    "# Get active layer:\n",
    "layer = iface.activeLayer()\n",
    "\n",
    "# Let's see what we got\n",
    "print(type(layer))\n",
    "# <class 'qgis._core.QgsVectorLayer'>\n",
    "\n",
    "print(layer.sourceName())\n",
    "# Seutukartta_liikenne_metro_rata\n",
    "\n",
    "print(layer.featureCount())\n",
    "3"
   ]
  }
 ],
 "metadata": {
  "kernelspec": {
   "display_name": "Python 3",
   "language": "python",
   "name": "python3"
  },
  "language_info": {
   "codemirror_mode": {
    "name": "ipython",
    "version": 3
   },
   "file_extension": ".py",
   "mimetype": "text/x-python",
   "name": "python",
   "nbconvert_exporter": "python",
   "pygments_lexer": "ipython3",
   "version": "3.11.3"
  },
  "widgets": {
   "application/vnd.jupyter.widget-state+json": {
    "state": {},
    "version_major": 2,
    "version_minor": 0
   }
  }
 },
 "nbformat": 4,
 "nbformat_minor": 4
}
