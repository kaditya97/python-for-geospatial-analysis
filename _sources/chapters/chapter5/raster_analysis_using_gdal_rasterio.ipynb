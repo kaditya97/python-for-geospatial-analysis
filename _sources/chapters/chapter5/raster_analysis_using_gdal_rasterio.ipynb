{
 "cells": [
  {
   "attachments": {},
   "cell_type": "markdown",
   "metadata": {},
   "source": [
    "# Raster Analysis Using GDAL and Rasterio"
   ]
  },
  {
   "attachments": {},
   "cell_type": "markdown",
   "metadata": {},
   "source": [
    "GDAL and Rasterio provide a variety of functions for performing raster analysis tasks, such as:\n",
    "\n",
    "- Reprojecting and resampling raster data.\n",
    "- Calculating statistics (mean, min, max) of raster values.\n",
    "- Cropping and extracting subsets of raster data.\n",
    "- Performing mathematical operations on raster bands (e.g., addition, subtraction, multiplication).\n",
    "- Masking raster data based on conditions or other raster datasets.\n",
    "- Calculating derived products like slope, aspect, hillshade, etc.\n",
    "- Writing raster data to a new file."
   ]
  }
 ],
 "metadata": {
  "kernelspec": {
   "display_name": "Python 3",
   "language": "python",
   "name": "python3"
  },
  "language_info": {
   "codemirror_mode": {
    "name": "ipython",
    "version": 3
   },
   "file_extension": ".py",
   "mimetype": "text/x-python",
   "name": "python",
   "nbconvert_exporter": "python",
   "pygments_lexer": "ipython3",
   "version": "3.8.0"
  },
  "widgets": {
   "application/vnd.jupyter.widget-state+json": {
    "state": {},
    "version_major": 2,
    "version_minor": 0
   }
  }
 },
 "nbformat": 4,
 "nbformat_minor": 4
}
